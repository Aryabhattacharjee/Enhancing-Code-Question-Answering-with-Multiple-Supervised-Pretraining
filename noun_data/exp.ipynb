{
 "cells": [
  {
   "cell_type": "code",
   "execution_count": 1,
   "metadata": {},
   "outputs": [
    {
     "name": "stderr",
     "output_type": "stream",
     "text": [
      "100%|██████████| 465939/465939 [00:00<00:00, 8529063.08it/s]\n"
     ]
    }
   ],
   "source": [
    "from multiprocessing import Pool, cpu_count\n",
    "from tqdm import tqdm\n",
    "# we find if any code of train.code is in dev.code.original or test.code.original\n",
    "def check_line_in_lists(dev, test, _sample: tuple):\n",
    "    line = _sample[0]\n",
    "    if line not in dev and line not in test:\n",
    "        return _sample\n",
    "\n",
    "\n",
    "with open('/home/arya/my_python/my_torch/cq/data/dev/dev.code.original', 'r') as file:\n",
    "    dev_lines = set(file.readlines())\n",
    "\n",
    "with open('/home/arya/my_python/my_torch/cq/data/test/test.code.original', 'r') as file:\n",
    "    test_lines = set(file.readlines())\n",
    "\n",
    "with open('/home/arya/my_python/my_torch/cq/noun_data/train.code', 'r') as file:\n",
    "    train_lines = file.readlines()\n",
    "\n",
    "with open('/home/arya/my_python/my_torch/cq/noun_data/train.comment', 'r') as file:\n",
    "    train_comments = file.readlines()\n",
    "\n",
    "\n",
    "# Make a tuple of the train_lines and train_comments\n",
    "data = list(zip(train_lines, train_comments))\n",
    "\n",
    "def process_sample(sample):\n",
    "    return check_line_in_lists(dev_lines, test_lines, sample)\n",
    "\n",
    "# Process lines using multiprocessing\n",
    "with Pool(cpu_count()) as pool:\n",
    "    modified_data = [item for item in tqdm(pool.map(process_sample, data)) if item is not None]"
   ]
  },
  {
   "cell_type": "code",
   "execution_count": 5,
   "metadata": {},
   "outputs": [
    {
     "name": "stdout",
     "output_type": "stream",
     "text": [
      "465939\n"
     ]
    }
   ],
   "source": [
    "print(len(modified_data)) # no duplicacy in dev and test"
   ]
  },
  {
   "cell_type": "code",
   "execution_count": 7,
   "metadata": {},
   "outputs": [
    {
     "name": "stdout",
     "output_type": "stream",
     "text": [
      "('@Override public int runCommand(boolean mergeErrorIntoOutput,String... commands) throws IOException, InterruptedException { return runCommand(mergeErrorIntoOutput,new ArrayList<String>(Arrays.asList(commands))); }\\n', 'Runs a command on the command line synchronously.\\n')\n"
     ]
    }
   ],
   "source": [
    "print(modified_data[0])"
   ]
  },
  {
   "cell_type": "code",
   "execution_count": 6,
   "metadata": {},
   "outputs": [
    {
     "data": {
      "text/plain": [
       "269270"
      ]
     },
     "execution_count": 6,
     "metadata": {},
     "output_type": "execute_result"
    }
   ],
   "source": [
    "len(set(modified_data)) # so many repeated data"
   ]
  },
  {
   "cell_type": "code",
   "execution_count": 9,
   "metadata": {},
   "outputs": [],
   "source": [
    "#write the data to the file\n",
    "with open('/home/arya/my_python/my_torch/cq/noun_data/clean_train.code', 'w') as file1:\n",
    "    with open('/home/arya/my_python/my_torch/cq/noun_data/clean_train.comment', 'w') as file2:\n",
    "        for item in set(modified_data):\n",
    "            file1.write(item[0])\n",
    "            file2.write(item[1])\n"
   ]
  },
  {
   "cell_type": "code",
   "execution_count": 5,
   "metadata": {},
   "outputs": [],
   "source": [
    "import sys\n",
    "# caution: path[0] is reserved for script path\n",
    "sys.path.insert(1, '/home/arya/my_python/my_torch/cq')\n",
    "from useful_function import remove_url\n",
    "\n",
    "with open('/home/arya/my_python/my_torch/cq/noun_data/clean_train.comment', 'r') as file:\n",
    "    lines=file.readlines()\n",
    "\n",
    "with open('/home/arya/my_python/my_torch/cq/noun_data/clean_ur_train.comment', 'a') as file:\n",
    "    for line in lines:\n",
    "        file.write(remove_url(line)+'\\n')\n",
    "\n"
   ]
  }
 ],
 "metadata": {
  "kernelspec": {
   "display_name": ".venv",
   "language": "python",
   "name": "python3"
  },
  "language_info": {
   "codemirror_mode": {
    "name": "ipython",
    "version": 3
   },
   "file_extension": ".py",
   "mimetype": "text/x-python",
   "name": "python",
   "nbconvert_exporter": "python",
   "pygments_lexer": "ipython3",
   "version": "3.10.12"
  }
 },
 "nbformat": 4,
 "nbformat_minor": 2
}
