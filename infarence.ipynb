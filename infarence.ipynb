{
 "cells": [
  {
   "cell_type": "code",
   "execution_count": 7,
   "metadata": {},
   "outputs": [],
   "source": [
    "from transformers import AutoTokenizer, AutoModelForSeq2SeqLM\n",
    "import torch\n",
    "tokenizer = AutoTokenizer.from_pretrained('Salesforce/codet5p-770m')\n",
    "model = AutoModelForSeq2SeqLM.from_pretrained('/home/arya/my_python/my_torch/cq/')"
   ]
  },
  {
   "cell_type": "code",
   "execution_count": 8,
   "metadata": {},
   "outputs": [
    {
     "name": "stdout",
     "output_type": "stream",
     "text": [
      "Model's response: a new map entry\n"
     ]
    }
   ],
   "source": [
    "# Define code snippet and question\n",
    "import torch\n",
    "code_snippet = \"\"\"\n",
    "public Map Entry Info Key ( Object value , Object key , Reference Queue < Object > queue ) { super ( value , queue ) ; hash Code = hash Code ^ key . hash Code ( ) ; key = key ; }\n",
    "\"\"\"\n",
    "question = \"What does the code create ?\"\n",
    "\n",
    "# Prepare the input\n",
    "input_text = f\"{code_snippet}\"+tokenizer.sep_token+f\"{question}<extra_id_0>\"\n",
    "input_ids = tokenizer.encode(input_text, return_tensors=\"pt\", max_length=512, truncation=True)\n",
    "\n",
    "# Generate the model's response\n",
    "with torch.no_grad():\n",
    "    output_ids = model.generate(input_ids, max_length=150, num_beams=10, early_stopping=True)\n",
    "\n",
    "# Decode and print the response\n",
    "response = tokenizer.decode(output_ids[0], skip_special_tokens=True)\n",
    "print(\"Model's response:\", response)"
   ]
  },
  {
   "cell_type": "code",
   "execution_count": null,
   "metadata": {},
   "outputs": [],
   "source": [
    "model.push_to_hub(\"AryaBhattacharjee/codeQA_master\")"
   ]
  }
 ],
 "metadata": {
  "kernelspec": {
   "display_name": "Python (Unsloth)",
   "language": "python",
   "name": "unsloth"
  },
  "language_info": {
   "codemirror_mode": {
    "name": "ipython",
    "version": 3
   },
   "file_extension": ".py",
   "mimetype": "text/x-python",
   "name": "python",
   "nbconvert_exporter": "python",
   "pygments_lexer": "ipython3",
   "version": "3.10.12"
  }
 },
 "nbformat": 4,
 "nbformat_minor": 2
}
