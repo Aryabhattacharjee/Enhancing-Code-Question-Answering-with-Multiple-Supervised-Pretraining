{
 "cells": [
  {
   "cell_type": "code",
   "execution_count": 45,
   "metadata": {},
   "outputs": [],
   "source": [
    "import sys\n",
    "from transformers import AutoTokenizer\n",
    "\n",
    "# Caution: path[0] is reserved for script path\n",
    "sys.path.insert(1, '/home/arya/my_python/my_torch/cq')\n",
    "from useful_function import truncate_string,fit_in_shape"
   ]
  },
  {
   "cell_type": "code",
   "execution_count": 39,
   "metadata": {},
   "outputs": [],
   "source": [
    "model_name = \"Salesforce/codet5p-770m\"\n",
    "tokenizer = AutoTokenizer.from_pretrained(model_name, use_fast=True)\n",
    "\n",
    "def read_file(file_path):\n",
    "    with open(file_path, 'r') as file:\n",
    "        return [line.strip() for line in file.readlines()]\n",
    "\n",
    "# Read and prepare data\n",
    "codes = read_file('/home/arya/my_python/my_torch/cq/codesum_data/clean_train.code')\n",
    "comments = read_file('/home/arya/my_python/my_torch/cq/codesum_data/clean_train.comment')\n"
   ]
  },
  {
   "cell_type": "code",
   "execution_count": null,
   "metadata": {},
   "outputs": [],
   "source": [
    "# truncate all comments to 512 tokens\n",
    "comments = [truncate_string(comment, 127, tokenizer) for comment in comments]"
   ]
  },
  {
   "cell_type": "code",
   "execution_count": 41,
   "metadata": {},
   "outputs": [],
   "source": [
    "answers= read_file('/home/arya/my_python/my_torch/cq/code_QA_data/train/train.answer')\n"
   ]
  },
  {
   "cell_type": "code",
   "execution_count": 42,
   "metadata": {},
   "outputs": [],
   "source": [
    "import random\n",
    "\n",
    "def get_length_distribution(answers):\n",
    "    lengths = [len(answer.split()) for answer in answers]  # Word count\n",
    "    distribution = {length: lengths.count(length) for length in set(lengths)}\n",
    "    return distribution\n",
    "\n",
    "def truncate_comments(comments, distribution):\n",
    "    results = []\n",
    "    for comment in comments:\n",
    "        # Select a length based on the distribution\n",
    "        length = random.choices(list(distribution.keys()), weights=distribution.values(), k=1)[0]\n",
    "        words = comment.split()\n",
    "        \n",
    "        # Truncate the string\n",
    "                # Calculate the index for truncation\n",
    "        if len(words) > length:  # Ensure there are enough words\n",
    "            truncated_string = ' '.join(words[:-length])  # All words except the last 'length' words\n",
    "            truncated_part = ' '.join(words[-length:])  # The last 'length' words\n",
    "        else:\n",
    "            truncated_string = comment.strip()  # If not enough words, take the whole comment\n",
    "            truncated_part = \"\"  # No part to truncate\n",
    "        \n",
    "        results.append((truncated_string.strip(), truncated_part.strip()))\n",
    "    \n",
    "    return results\n",
    "\n",
    "\n",
    "# Get the distribution from answers\n",
    "distribution = get_length_distribution(answers)\n",
    "\n",
    "# Truncate comments based on that distribution\n",
    "truncated_results = truncate_comments(comments, distribution)\n",
    "\n",
    "truncated_strings = []\n",
    "truncated_parts = []\n",
    "\n",
    "for truncated_string, truncated_part in truncated_results:\n",
    "    truncated_strings.append(truncated_string)\n",
    "    truncated_parts.append(truncated_part)\n"
   ]
  },
  {
   "cell_type": "code",
   "execution_count": 43,
   "metadata": {},
   "outputs": [],
   "source": [
    "model_id = \"Salesforce/codet5p-770m\"\n",
    "tokenizer = AutoTokenizer.from_pretrained(model_id, use_fast=True)"
   ]
  },
  {
   "cell_type": "code",
   "execution_count": null,
   "metadata": {},
   "outputs": [],
   "source": [
    "code_comment=[]\n",
    "for code,comment in zip(codes,truncated_strings):\n",
    "    temp=fit_in_shape(code,comment,tokenizer)\n",
    "    code=temp[0]\n",
    "    comment=temp[1]\n",
    "    code_comment.append((code+tokenizer.sep_token+comment))\n"
   ]
  },
  {
   "cell_type": "code",
   "execution_count": 50,
   "metadata": {},
   "outputs": [],
   "source": [
    "# Write truncated strings to a file\n",
    "with open('/home/arya/my_python/my_torch/cq/par_des_gen/code_comment.data', 'w') as f:\n",
    "    for string in code_comment:\n",
    "        f.write(f\"{string}\\n\")\n",
    "\n",
    "# Write truncated parts to a file\n",
    "with open('/home/arya/my_python/my_torch/cq/par_des_gen/truncated_part.data', 'w') as f:\n",
    "    for part in truncated_parts:\n",
    "        f.write(f\"{part}\\n\")\n"
   ]
  },
  {
   "cell_type": "code",
   "execution_count": null,
   "metadata": {},
   "outputs": [],
   "source": []
  },
  {
   "cell_type": "code",
   "execution_count": 35,
   "metadata": {},
   "outputs": [],
   "source": [
    "\n"
   ]
  },
  {
   "cell_type": "code",
   "execution_count": null,
   "metadata": {},
   "outputs": [],
   "source": []
  },
  {
   "cell_type": "code",
   "execution_count": 51,
   "metadata": {},
   "outputs": [],
   "source": [
    "from transformers import AutoTokenizer, T5ForConditionalGeneration\n",
    "import torch\n",
    "tokenizer = AutoTokenizer.from_pretrained('Salesforce/codet5-base')\n",
    "model = T5ForConditionalGeneration.from_pretrained('/home/arya/my_python/my_torch/cq/')"
   ]
  },
  {
   "cell_type": "code",
   "execution_count": 52,
   "metadata": {},
   "outputs": [
    {
     "name": "stdout",
     "output_type": "stream",
     "text": [
      "Model's response: a new map entry\n"
     ]
    }
   ],
   "source": [
    "# Define code snippet and question\n",
    "import torch\n",
    "code_snippet = \"\"\"\n",
    "public Map Entry Info Key ( Object value , Object key , Reference Queue < Object > queue ) { super ( value , queue ) ; hash Code = hash Code ^ key . hash Code ( ) ; key = key ; }\n",
    "\"\"\"\n",
    "question = \"What does the code create ?\"\n",
    "\n",
    "# Prepare the input\n",
    "input_text = f\"code: {code_snippet}\"+tokenizer.sep_token+f\"question: {question}<extra_id_0>\"\n",
    "input_ids = tokenizer.encode(input_text, return_tensors=\"pt\", max_length=512, truncation=True)\n",
    "\n",
    "# Generate the model's response\n",
    "with torch.no_grad():\n",
    "    output_ids = model.generate(input_ids, max_length=150, num_beams=10, early_stopping=True)\n",
    "\n",
    "# Decode and print the response\n",
    "response = tokenizer.decode(output_ids[0], skip_special_tokens=True)\n",
    "print(\"Model's response:\", response)"
   ]
  }
 ],
 "metadata": {
  "kernelspec": {
   "display_name": "Python (Unsloth)",
   "language": "python",
   "name": "unsloth"
  },
  "language_info": {
   "codemirror_mode": {
    "name": "ipython",
    "version": 3
   },
   "file_extension": ".py",
   "mimetype": "text/x-python",
   "name": "python",
   "nbconvert_exporter": "python",
   "pygments_lexer": "ipython3",
   "version": "3.10.12"
  }
 },
 "nbformat": 4,
 "nbformat_minor": 2
}
